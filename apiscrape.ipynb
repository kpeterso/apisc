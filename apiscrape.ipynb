{
 "cells": [
  {
   "cell_type": "code",
   "execution_count": 1,
   "metadata": {
    "collapsed": false
   },
   "outputs": [],
   "source": [
    "import requests\n",
    "import pandas as pd\n",
    "import json\n",
    "import numpy as np\n",
    "import pickle\n",
    "from sklearn import linear_model"
   ]
  },
  {
   "cell_type": "code",
   "execution_count": 2,
   "metadata": {
    "collapsed": true
   },
   "outputs": [],
   "source": [
    "def extractCRData(scraped):\n",
    "    l=[]\n",
    "    for a in scraped:\n",
    "        d={}\n",
    "        d[\"id\"]=a[\"model\"][\"id\"]\n",
    "        d[\"vin\"]=a[\"vin\"]\n",
    "        d[\"make\"]=a[\"make\"][\"name\"]\n",
    "        d[\"model\"]=a[\"model\"][\"name\"]\n",
    "        d[\"testCompletionDate\"]=a[\"testCompletionDate\"]\n",
    "        d[\"tiresAsTested\"]=a.get(\"tiresAsTested\", \"None\")\n",
    "        d[\"fullTrimName\"]=a.get(\"trimName\", \"None\")\n",
    "        d[\"autonomous\"]=a[\"trim\"][\"modelYear\"].get(\"autonomous\", \"None\")\n",
    "        d[\"modelYear\"]=a[\"trim\"][\"modelYear\"].get(\"year\", \"None\")\n",
    "        d[\"isRecommended\"]=a.get(\"isRecommended\", \"None\")\n",
    "        d[\"isRedesign\"]=a[\"trim\"][\"modelYear\"].get(\"isRedesign\", \"None\")\n",
    "        d[\"transmission\"]=a[\"trim\"][\"transmission\"].get(\"description\", \"None\")\n",
    "        d[\"ratingsCategory\"]=a.get(\"ratingsCategory\", \"None\")\n",
    "        d[\"trim\"]=a[\"trim\"][\"name\"]\n",
    "        d[\"overallScore\"]=a.get(\"crOverallScore\", \"None\")\n",
    "        d[\"roadTestScore\"]=a.get(\"overallScore\", \"None\")\n",
    "        d[\"purchasePrice\"]=a.get(\"purchasePrice\")\n",
    "    \n",
    "        for item in a[\"trim\"]['featureGroups']:\n",
    "                for attribute in item['attributes']:\n",
    "                    d[attribute['name']]=attribute['value']\n",
    "                \n",
    "        for item in a[\"testResults\"]:\n",
    "                d[item['name']]=item.get(\"overallRatingBlob\", \"None\")\n",
    "                if \"subTests\" in item:\n",
    "                    for subtest in item[\"subTests\"]:\n",
    "                        d[subtest[\"name\"]]=subtest.get(\"averageValue\", \"None\")\n",
    "                        \n",
    "        l.append(d)\n",
    "\n",
    "    df=pandas.DataFrame(l)\n",
    "    #df=df.join(df['Luggage'].str.split('+', 1, expand=True).rename(columns={0:'duffel', 1:'suitcase'})).drop(\"Luggage\",axis=1)\n",
    "    \n",
    "    return df"
   ]
  },
  {
   "cell_type": "code",
   "execution_count": null,
   "metadata": {
    "collapsed": false
   },
   "outputs": [],
   "source": [
    "apiLinkFront=\"\"\n",
    "apiLinkBack=\"\""
   ]
  },
  {
   "cell_type": "code",
   "execution_count": null,
   "metadata": {
    "collapsed": false,
    "scrolled": true
   },
   "outputs": [],
   "source": [
    "a=[]\n",
    "with open('skipList.pkl', 'rb') as fp:\n",
    "    skipList=pickle.load(fp)\n",
    "\n",
    "for i in range(83,1001):\n",
    "    if i in skipList:\n",
    "        continue\n",
    "    try:\n",
    "        response = requests.get(\"\".join([apiLinkFront,str(i),apiLinkBack]))\n",
    "        response.raise_for_status() # raise exception if invalid response\n",
    "        a.extend(response.json())\n",
    "        print(\"Successfully visited {0}\".format(str(i)))\n",
    "    except requests.exceptions.RequestException as e:\n",
    "        #print(e)\n",
    "        skipList.append(i)\n",
    "        continue\n",
    "\n"
   ]
  },
  {
   "cell_type": "code",
   "execution_count": null,
   "metadata": {
    "collapsed": true
   },
   "outputs": [],
   "source": [
    "with open('scrapelists.pkl', 'wb') as fp:\n",
    "    pickle.dump([a,skipList], fp)"
   ]
  },
  {
   "cell_type": "code",
   "execution_count": 3,
   "metadata": {
    "collapsed": true
   },
   "outputs": [],
   "source": [
    "with open('scrapelists.pkl', 'rb') as fp:\n",
    "    a, skipList=pickle.load(fp)"
   ]
  },
  {
   "cell_type": "code",
   "execution_count": 4,
   "metadata": {
    "collapsed": false
   },
   "outputs": [],
   "source": [
    "df=extractCRData(item)"
   ]
  },
  {
   "cell_type": "code",
   "execution_count": 6,
   "metadata": {
    "collapsed": false
   },
   "outputs": [],
   "source": [
    "l=[\"roadTestScore\",\"Luggage\",\"ratingsCategory\"]\n",
    "for i in a[0]['testResults']:\n",
    "    #l.append(i[\"name\"])\n",
    "    if 'subTests' in i:\n",
    "        for j in i['subTests']:\n",
    "            l.append(j['name'])"
   ]
  },
  {
   "cell_type": "code",
   "execution_count": 7,
   "metadata": {
    "collapsed": false
   },
   "outputs": [],
   "source": [
    "dropList=['Quarter Mile Mph','Automatic Transmission Shift Action','Trunk Space','Brake Pedal Effort 1st Stop','Brake Pedal Effort 10th Stop', 'Cutoff', 'Gap', 'High Beams', 'Intensity', 'Low Beams', 'Opposing', 'Uniformity', 'Veiling', 'Width','0-100 Km/H','0-50 Km/H','500 M, Sec','80-100 Km/H','Noise 40 Mph Rough', 'Noise 70 Mph Smooth','City Traffic Cycle (L/Km)', 'City Traffic Cycle (Mpg)', 'Constant Speed 65 Mph (L/Km)', 'Constant Speed 65 Mph (Mpg)', 'Day Trip (Mpg)', 'Gallons/12000 Miles (Gal)', 'Overall (L/Km)','Noise Wot']\n",
    "df_tests=df[l].drop(dropList,axis=1)"
   ]
  },
  {
   "cell_type": "code",
   "execution_count": 8,
   "metadata": {
    "collapsed": false
   },
   "outputs": [
    {
     "name": "stdout",
     "output_type": "stream",
     "text": [
      "['roadTestScore', 'Luggage', 'ratingsCategory', '0-30 Mph', '0-60 Mph', '45-65 Mph', 'Quarter Mile,Sec', 'Shifting Smoothness', 'Overall Routine Handling', 'Turning Circle', 'Avoidance Confidence', 'Avoidance Speed', 'Dry Skid Lateralg', 'Predictability Controllability', 'Steering Feel', 'Brake Fade', 'Brake Modulation', 'Dry Braking Directional Stability', 'No-Lock Stopping Distance', 'Split Mu Braking Directional Stability', 'Split Mu Stopping Distance', 'Wet Braking Stopping Distance', 'Normal Load Highway', 'Normal Load Rough Road1', 'Normal Load Rough Road2', 'Noise Trip Overall', 'Driving Position For Medium', 'Driving Position For Short', 'Driving Position For Tall', 'Driving Visibility For Medium', 'Driving Visibility For Short', 'Driving Visibility For Tall', 'Front Seat Comfort For Medium', 'Front Seat Comfort For Short', 'Front Seat Comfort For Tall', 'Rear Seat Comfort With 2', 'Climate Control Overall', 'Front Access For Medium', 'Front Access For Short', 'Front Access For Tall', 'Rear Access For Medium', 'Rear Access For Short', 'Rear Access For Tall', 'Controls And Displays For Medium', 'Controls And Displays For Short', 'Controls And Displays For Tall', 'Merp', 'Points Off', 'Overall (Mpg)', 'Interior Fabric', 'Other Cockpit', 'Primary Cockpit', 'Trunc']\n"
     ]
    }
   ],
   "source": [
    "print(df_tests.columns.tolist())"
   ]
  },
  {
   "cell_type": "code",
   "execution_count": 9,
   "metadata": {
    "collapsed": false
   },
   "outputs": [],
   "source": [
    "df_tests=df_tests.join(df_tests['Luggage'].str.split('+', 1, expand=True).rename(columns={0:'duffel', 1:'suitcase'})).drop(\"Luggage\",axis=1)"
   ]
  },
  {
   "cell_type": "code",
   "execution_count": 10,
   "metadata": {
    "collapsed": false
   },
   "outputs": [
    {
     "data": {
      "text/html": [
       "<div>\n",
       "<table border=\"1\" class=\"dataframe\">\n",
       "  <thead>\n",
       "    <tr style=\"text-align: right;\">\n",
       "      <th></th>\n",
       "      <th>roadTestScore</th>\n",
       "      <th>ratingsCategory</th>\n",
       "      <th>0-30 Mph</th>\n",
       "      <th>0-60 Mph</th>\n",
       "      <th>45-65 Mph</th>\n",
       "      <th>Quarter Mile,Sec</th>\n",
       "      <th>Shifting Smoothness</th>\n",
       "      <th>Overall Routine Handling</th>\n",
       "      <th>Turning Circle</th>\n",
       "      <th>Avoidance Confidence</th>\n",
       "      <th>...</th>\n",
       "      <th>Controls And Displays For Tall</th>\n",
       "      <th>Merp</th>\n",
       "      <th>Points Off</th>\n",
       "      <th>Overall (Mpg)</th>\n",
       "      <th>Interior Fabric</th>\n",
       "      <th>Other Cockpit</th>\n",
       "      <th>Primary Cockpit</th>\n",
       "      <th>Trunc</th>\n",
       "      <th>duffel</th>\n",
       "      <th>suitcase</th>\n",
       "    </tr>\n",
       "  </thead>\n",
       "  <tbody>\n",
       "    <tr>\n",
       "      <th>0</th>\n",
       "      <td>81.58</td>\n",
       "      <td>Sports/sporty cars under $40,000</td>\n",
       "      <td>2.68</td>\n",
       "      <td>6.58</td>\n",
       "      <td>4.48</td>\n",
       "      <td>15.15</td>\n",
       "      <td>4.60</td>\n",
       "      <td>4.47</td>\n",
       "      <td>37.17</td>\n",
       "      <td>4.15</td>\n",
       "      <td>...</td>\n",
       "      <td>5.00</td>\n",
       "      <td>24.13</td>\n",
       "      <td>-1.1</td>\n",
       "      <td>28.56</td>\n",
       "      <td>3.50</td>\n",
       "      <td>3.80</td>\n",
       "      <td>3.80</td>\n",
       "      <td>3.7</td>\n",
       "      <td>2</td>\n",
       "      <td>1</td>\n",
       "    </tr>\n",
       "    <tr>\n",
       "      <th>1</th>\n",
       "      <td>85.78</td>\n",
       "      <td>Luxury compact cars</td>\n",
       "      <td>2.80</td>\n",
       "      <td>6.87</td>\n",
       "      <td>4.73</td>\n",
       "      <td>15.24</td>\n",
       "      <td>4.74</td>\n",
       "      <td>4.58</td>\n",
       "      <td>39.50</td>\n",
       "      <td>4.20</td>\n",
       "      <td>...</td>\n",
       "      <td>NaN</td>\n",
       "      <td>NaN</td>\n",
       "      <td>NaN</td>\n",
       "      <td>25.67</td>\n",
       "      <td>4.50</td>\n",
       "      <td>4.40</td>\n",
       "      <td>4.50</td>\n",
       "      <td>4.0</td>\n",
       "      <td>2</td>\n",
       "      <td>2</td>\n",
       "    </tr>\n",
       "    <tr>\n",
       "      <th>2</th>\n",
       "      <td>86.18</td>\n",
       "      <td>Luxury compact cars</td>\n",
       "      <td>3.45</td>\n",
       "      <td>8.53</td>\n",
       "      <td>5.10</td>\n",
       "      <td>16.75</td>\n",
       "      <td>4.70</td>\n",
       "      <td>4.60</td>\n",
       "      <td>38.17</td>\n",
       "      <td>4.30</td>\n",
       "      <td>...</td>\n",
       "      <td>2.77</td>\n",
       "      <td>NaN</td>\n",
       "      <td>-0.6</td>\n",
       "      <td>35.30</td>\n",
       "      <td>4.53</td>\n",
       "      <td>4.43</td>\n",
       "      <td>4.53</td>\n",
       "      <td>4.4</td>\n",
       "      <td>2</td>\n",
       "      <td>1</td>\n",
       "    </tr>\n",
       "    <tr>\n",
       "      <th>3</th>\n",
       "      <td>82.7</td>\n",
       "      <td>Luxury compact cars</td>\n",
       "      <td>2.93</td>\n",
       "      <td>7.40</td>\n",
       "      <td>4.93</td>\n",
       "      <td>15.88</td>\n",
       "      <td>4.37</td>\n",
       "      <td>4.17</td>\n",
       "      <td>39.25</td>\n",
       "      <td>4.25</td>\n",
       "      <td>...</td>\n",
       "      <td>4.18</td>\n",
       "      <td>NaN</td>\n",
       "      <td>-0.8</td>\n",
       "      <td>23.69</td>\n",
       "      <td>3.90</td>\n",
       "      <td>3.80</td>\n",
       "      <td>3.90</td>\n",
       "      <td>3.6</td>\n",
       "      <td>3</td>\n",
       "      <td>1</td>\n",
       "    </tr>\n",
       "    <tr>\n",
       "      <th>4</th>\n",
       "      <td>84.89</td>\n",
       "      <td>Sports/sporty cars over $40,000</td>\n",
       "      <td>1.98</td>\n",
       "      <td>4.43</td>\n",
       "      <td>3.06</td>\n",
       "      <td>12.68</td>\n",
       "      <td>4.60</td>\n",
       "      <td>4.70</td>\n",
       "      <td>39.50</td>\n",
       "      <td>4.50</td>\n",
       "      <td>...</td>\n",
       "      <td>NaN</td>\n",
       "      <td>NaN</td>\n",
       "      <td>0.1</td>\n",
       "      <td>19.84</td>\n",
       "      <td>3.80</td>\n",
       "      <td>3.30</td>\n",
       "      <td>3.50</td>\n",
       "      <td>3.3</td>\n",
       "      <td>1</td>\n",
       "      <td>2</td>\n",
       "    </tr>\n",
       "  </tbody>\n",
       "</table>\n",
       "<p>5 rows × 54 columns</p>\n",
       "</div>"
      ],
      "text/plain": [
       "  roadTestScore                   ratingsCategory  0-30 Mph  0-60 Mph  \\\n",
       "0         81.58  Sports/sporty cars under $40,000      2.68      6.58   \n",
       "1         85.78               Luxury compact cars      2.80      6.87   \n",
       "2         86.18               Luxury compact cars      3.45      8.53   \n",
       "3          82.7               Luxury compact cars      2.93      7.40   \n",
       "4         84.89   Sports/sporty cars over $40,000      1.98      4.43   \n",
       "\n",
       "   45-65 Mph  Quarter Mile,Sec  Shifting Smoothness  Overall Routine Handling  \\\n",
       "0       4.48             15.15                 4.60                      4.47   \n",
       "1       4.73             15.24                 4.74                      4.58   \n",
       "2       5.10             16.75                 4.70                      4.60   \n",
       "3       4.93             15.88                 4.37                      4.17   \n",
       "4       3.06             12.68                 4.60                      4.70   \n",
       "\n",
       "   Turning Circle  Avoidance Confidence    ...     \\\n",
       "0           37.17                  4.15    ...      \n",
       "1           39.50                  4.20    ...      \n",
       "2           38.17                  4.30    ...      \n",
       "3           39.25                  4.25    ...      \n",
       "4           39.50                  4.50    ...      \n",
       "\n",
       "   Controls And Displays For Tall   Merp  Points Off  Overall (Mpg)  \\\n",
       "0                            5.00  24.13        -1.1          28.56   \n",
       "1                             NaN    NaN         NaN          25.67   \n",
       "2                            2.77    NaN        -0.6          35.30   \n",
       "3                            4.18    NaN        -0.8          23.69   \n",
       "4                             NaN    NaN         0.1          19.84   \n",
       "\n",
       "   Interior Fabric  Other Cockpit  Primary Cockpit  Trunc  duffel  suitcase  \n",
       "0             3.50           3.80             3.80    3.7       2         1  \n",
       "1             4.50           4.40             4.50    4.0       2         2  \n",
       "2             4.53           4.43             4.53    4.4       2         1  \n",
       "3             3.90           3.80             3.90    3.6       3         1  \n",
       "4             3.80           3.30             3.50    3.3       1         2  \n",
       "\n",
       "[5 rows x 54 columns]"
      ]
     },
     "execution_count": 10,
     "metadata": {},
     "output_type": "execute_result"
    }
   ],
   "source": [
    "df_tests = df_tests[df_tests['roadTestScore']!='None'].reset_index(drop='True')\n",
    "df_tests.head()"
   ]
  },
  {
   "cell_type": "code",
   "execution_count": 11,
   "metadata": {
    "collapsed": false
   },
   "outputs": [
    {
     "data": {
      "text/html": [
       "<div>\n",
       "<table border=\"1\" class=\"dataframe\">\n",
       "  <thead>\n",
       "    <tr style=\"text-align: right;\">\n",
       "      <th></th>\n",
       "      <th>roadTestScore</th>\n",
       "      <th>0-30 Mph</th>\n",
       "      <th>0-60 Mph</th>\n",
       "      <th>45-65 Mph</th>\n",
       "      <th>Quarter Mile,Sec</th>\n",
       "      <th>Shifting Smoothness</th>\n",
       "      <th>Overall Routine Handling</th>\n",
       "      <th>Turning Circle</th>\n",
       "      <th>Avoidance Confidence</th>\n",
       "      <th>Avoidance Speed</th>\n",
       "      <th>...</th>\n",
       "      <th>Controls And Displays For Tall</th>\n",
       "      <th>Merp</th>\n",
       "      <th>Points Off</th>\n",
       "      <th>Overall (Mpg)</th>\n",
       "      <th>Interior Fabric</th>\n",
       "      <th>Other Cockpit</th>\n",
       "      <th>Primary Cockpit</th>\n",
       "      <th>Trunc</th>\n",
       "      <th>duffel</th>\n",
       "      <th>suitcase</th>\n",
       "    </tr>\n",
       "  </thead>\n",
       "  <tbody>\n",
       "    <tr>\n",
       "      <th>count</th>\n",
       "      <td>255.000000</td>\n",
       "      <td>255.000000</td>\n",
       "      <td>255.000000</td>\n",
       "      <td>255.000000</td>\n",
       "      <td>255.000000</td>\n",
       "      <td>243.000000</td>\n",
       "      <td>255.000000</td>\n",
       "      <td>255.000000</td>\n",
       "      <td>255.000000</td>\n",
       "      <td>255.000000</td>\n",
       "      <td>...</td>\n",
       "      <td>179.000000</td>\n",
       "      <td>149.000000</td>\n",
       "      <td>219.000000</td>\n",
       "      <td>255.000000</td>\n",
       "      <td>255.000000</td>\n",
       "      <td>255.000000</td>\n",
       "      <td>255.000000</td>\n",
       "      <td>255.000000</td>\n",
       "      <td>132.000000</td>\n",
       "      <td>132.000000</td>\n",
       "    </tr>\n",
       "    <tr>\n",
       "      <th>mean</th>\n",
       "      <td>74.368549</td>\n",
       "      <td>3.092431</td>\n",
       "      <td>7.980471</td>\n",
       "      <td>5.152000</td>\n",
       "      <td>16.135765</td>\n",
       "      <td>4.304033</td>\n",
       "      <td>3.692196</td>\n",
       "      <td>39.366078</td>\n",
       "      <td>3.465137</td>\n",
       "      <td>51.965725</td>\n",
       "      <td>...</td>\n",
       "      <td>3.738268</td>\n",
       "      <td>31.485772</td>\n",
       "      <td>-0.457945</td>\n",
       "      <td>26.179255</td>\n",
       "      <td>3.805922</td>\n",
       "      <td>3.625725</td>\n",
       "      <td>3.754588</td>\n",
       "      <td>3.704000</td>\n",
       "      <td>2.265152</td>\n",
       "      <td>1.439394</td>\n",
       "    </tr>\n",
       "    <tr>\n",
       "      <th>std</th>\n",
       "      <td>11.201709</td>\n",
       "      <td>0.542229</td>\n",
       "      <td>1.608554</td>\n",
       "      <td>0.997353</td>\n",
       "      <td>1.277406</td>\n",
       "      <td>0.470583</td>\n",
       "      <td>0.556513</td>\n",
       "      <td>3.132566</td>\n",
       "      <td>0.700187</td>\n",
       "      <td>2.938864</td>\n",
       "      <td>...</td>\n",
       "      <td>0.818061</td>\n",
       "      <td>16.468477</td>\n",
       "      <td>0.523102</td>\n",
       "      <td>14.104585</td>\n",
       "      <td>0.677512</td>\n",
       "      <td>0.709768</td>\n",
       "      <td>0.699212</td>\n",
       "      <td>0.517682</td>\n",
       "      <td>0.931713</td>\n",
       "      <td>0.831237</td>\n",
       "    </tr>\n",
       "    <tr>\n",
       "      <th>min</th>\n",
       "      <td>19.950000</td>\n",
       "      <td>1.350000</td>\n",
       "      <td>3.480000</td>\n",
       "      <td>2.400000</td>\n",
       "      <td>12.100000</td>\n",
       "      <td>1.900000</td>\n",
       "      <td>1.920000</td>\n",
       "      <td>23.670000</td>\n",
       "      <td>1.250000</td>\n",
       "      <td>44.500000</td>\n",
       "      <td>...</td>\n",
       "      <td>1.040000</td>\n",
       "      <td>0.000000</td>\n",
       "      <td>-1.920000</td>\n",
       "      <td>14.100000</td>\n",
       "      <td>1.870000</td>\n",
       "      <td>1.500000</td>\n",
       "      <td>1.500000</td>\n",
       "      <td>2.200000</td>\n",
       "      <td>0.000000</td>\n",
       "      <td>0.000000</td>\n",
       "    </tr>\n",
       "    <tr>\n",
       "      <th>25%</th>\n",
       "      <td>67.800000</td>\n",
       "      <td>2.720000</td>\n",
       "      <td>6.875000</td>\n",
       "      <td>4.550000</td>\n",
       "      <td>15.375000</td>\n",
       "      <td>4.155000</td>\n",
       "      <td>3.370000</td>\n",
       "      <td>37.480000</td>\n",
       "      <td>3.000000</td>\n",
       "      <td>50.170000</td>\n",
       "      <td>...</td>\n",
       "      <td>3.390000</td>\n",
       "      <td>26.060000</td>\n",
       "      <td>-0.800000</td>\n",
       "      <td>20.090000</td>\n",
       "      <td>3.300000</td>\n",
       "      <td>3.100000</td>\n",
       "      <td>3.265000</td>\n",
       "      <td>3.400000</td>\n",
       "      <td>2.000000</td>\n",
       "      <td>1.000000</td>\n",
       "    </tr>\n",
       "    <tr>\n",
       "      <th>50%</th>\n",
       "      <td>75.840000</td>\n",
       "      <td>3.070000</td>\n",
       "      <td>7.850000</td>\n",
       "      <td>5.000000</td>\n",
       "      <td>16.100000</td>\n",
       "      <td>4.430000</td>\n",
       "      <td>3.700000</td>\n",
       "      <td>39.250000</td>\n",
       "      <td>3.600000</td>\n",
       "      <td>52.380000</td>\n",
       "      <td>...</td>\n",
       "      <td>3.900000</td>\n",
       "      <td>32.660000</td>\n",
       "      <td>-0.500000</td>\n",
       "      <td>23.400000</td>\n",
       "      <td>3.900000</td>\n",
       "      <td>3.600000</td>\n",
       "      <td>3.800000</td>\n",
       "      <td>3.700000</td>\n",
       "      <td>2.000000</td>\n",
       "      <td>1.000000</td>\n",
       "    </tr>\n",
       "    <tr>\n",
       "      <th>75%</th>\n",
       "      <td>81.710000</td>\n",
       "      <td>3.440000</td>\n",
       "      <td>8.930000</td>\n",
       "      <td>5.780000</td>\n",
       "      <td>16.930000</td>\n",
       "      <td>4.600000</td>\n",
       "      <td>4.065000</td>\n",
       "      <td>40.710000</td>\n",
       "      <td>3.925000</td>\n",
       "      <td>54.070000</td>\n",
       "      <td>...</td>\n",
       "      <td>4.320000</td>\n",
       "      <td>39.290000</td>\n",
       "      <td>0.000000</td>\n",
       "      <td>28.195000</td>\n",
       "      <td>4.400000</td>\n",
       "      <td>4.270000</td>\n",
       "      <td>4.300000</td>\n",
       "      <td>4.000000</td>\n",
       "      <td>3.000000</td>\n",
       "      <td>2.000000</td>\n",
       "    </tr>\n",
       "    <tr>\n",
       "      <th>max</th>\n",
       "      <td>99.880000</td>\n",
       "      <td>4.520000</td>\n",
       "      <td>12.080000</td>\n",
       "      <td>7.930000</td>\n",
       "      <td>19.010000</td>\n",
       "      <td>5.000000</td>\n",
       "      <td>4.970000</td>\n",
       "      <td>55.670000</td>\n",
       "      <td>5.000000</td>\n",
       "      <td>59.350000</td>\n",
       "      <td>...</td>\n",
       "      <td>5.000000</td>\n",
       "      <td>71.050000</td>\n",
       "      <td>0.500000</td>\n",
       "      <td>139.000000</td>\n",
       "      <td>5.000000</td>\n",
       "      <td>5.000000</td>\n",
       "      <td>5.000000</td>\n",
       "      <td>5.000000</td>\n",
       "      <td>4.000000</td>\n",
       "      <td>4.000000</td>\n",
       "    </tr>\n",
       "  </tbody>\n",
       "</table>\n",
       "<p>8 rows × 53 columns</p>\n",
       "</div>"
      ],
      "text/plain": [
       "       roadTestScore    0-30 Mph    0-60 Mph   45-65 Mph  Quarter Mile,Sec  \\\n",
       "count     255.000000  255.000000  255.000000  255.000000        255.000000   \n",
       "mean       74.368549    3.092431    7.980471    5.152000         16.135765   \n",
       "std        11.201709    0.542229    1.608554    0.997353          1.277406   \n",
       "min        19.950000    1.350000    3.480000    2.400000         12.100000   \n",
       "25%        67.800000    2.720000    6.875000    4.550000         15.375000   \n",
       "50%        75.840000    3.070000    7.850000    5.000000         16.100000   \n",
       "75%        81.710000    3.440000    8.930000    5.780000         16.930000   \n",
       "max        99.880000    4.520000   12.080000    7.930000         19.010000   \n",
       "\n",
       "       Shifting Smoothness  Overall Routine Handling  Turning Circle  \\\n",
       "count           243.000000                255.000000      255.000000   \n",
       "mean              4.304033                  3.692196       39.366078   \n",
       "std               0.470583                  0.556513        3.132566   \n",
       "min               1.900000                  1.920000       23.670000   \n",
       "25%               4.155000                  3.370000       37.480000   \n",
       "50%               4.430000                  3.700000       39.250000   \n",
       "75%               4.600000                  4.065000       40.710000   \n",
       "max               5.000000                  4.970000       55.670000   \n",
       "\n",
       "       Avoidance Confidence  Avoidance Speed     ...      \\\n",
       "count            255.000000       255.000000     ...       \n",
       "mean               3.465137        51.965725     ...       \n",
       "std                0.700187         2.938864     ...       \n",
       "min                1.250000        44.500000     ...       \n",
       "25%                3.000000        50.170000     ...       \n",
       "50%                3.600000        52.380000     ...       \n",
       "75%                3.925000        54.070000     ...       \n",
       "max                5.000000        59.350000     ...       \n",
       "\n",
       "       Controls And Displays For Tall        Merp  Points Off  Overall (Mpg)  \\\n",
       "count                      179.000000  149.000000  219.000000     255.000000   \n",
       "mean                         3.738268   31.485772   -0.457945      26.179255   \n",
       "std                          0.818061   16.468477    0.523102      14.104585   \n",
       "min                          1.040000    0.000000   -1.920000      14.100000   \n",
       "25%                          3.390000   26.060000   -0.800000      20.090000   \n",
       "50%                          3.900000   32.660000   -0.500000      23.400000   \n",
       "75%                          4.320000   39.290000    0.000000      28.195000   \n",
       "max                          5.000000   71.050000    0.500000     139.000000   \n",
       "\n",
       "       Interior Fabric  Other Cockpit  Primary Cockpit       Trunc  \\\n",
       "count       255.000000     255.000000       255.000000  255.000000   \n",
       "mean          3.805922       3.625725         3.754588    3.704000   \n",
       "std           0.677512       0.709768         0.699212    0.517682   \n",
       "min           1.870000       1.500000         1.500000    2.200000   \n",
       "25%           3.300000       3.100000         3.265000    3.400000   \n",
       "50%           3.900000       3.600000         3.800000    3.700000   \n",
       "75%           4.400000       4.270000         4.300000    4.000000   \n",
       "max           5.000000       5.000000         5.000000    5.000000   \n",
       "\n",
       "           duffel    suitcase  \n",
       "count  132.000000  132.000000  \n",
       "mean     2.265152    1.439394  \n",
       "std      0.931713    0.831237  \n",
       "min      0.000000    0.000000  \n",
       "25%      2.000000    1.000000  \n",
       "50%      2.000000    1.000000  \n",
       "75%      3.000000    2.000000  \n",
       "max      4.000000    4.000000  \n",
       "\n",
       "[8 rows x 53 columns]"
      ]
     },
     "execution_count": 11,
     "metadata": {},
     "output_type": "execute_result"
    }
   ],
   "source": [
    "df_tests[['roadTestScore','duffel','suitcase']] = df_tests[['roadTestScore','duffel','suitcase']].astype(float)\n",
    "df_tests['ratingsCategory'] = df_tests['ratingsCategory'].astype('category')\n",
    "df_tests.describe()"
   ]
  },
  {
   "cell_type": "code",
   "execution_count": 12,
   "metadata": {
    "collapsed": false
   },
   "outputs": [
    {
     "data": {
      "text/plain": [
       "['Sports/sporty cars under $40,000',\n",
       " 'Luxury compact cars',\n",
       " 'Sports/sporty cars over $40,000',\n",
       " 'Midsized sport-utility vehicles',\n",
       " 'Large cars',\n",
       " 'Compact cars',\n",
       " 'Ultra luxury cars',\n",
       " 'Compact sport-utility vehicles',\n",
       " 'Luxury midsized cars',\n",
       " 'Roadsters',\n",
       " 'Subcompact cars',\n",
       " 'Midsized cars',\n",
       " 'Mini-vans',\n",
       " 'Large sport-utility vehicles',\n",
       " 'Luxury large sport-utility vehicles',\n",
       " 'Full-sized pickup trucks',\n",
       " 'Compact pickup trucks',\n",
       " 'Luxury midsized sport-utility vehicles',\n",
       " 'Small cars (2-door)',\n",
       " 'Electric cars/Plug-in hybrids',\n",
       " 'Luxury compact sport-utility vehicles',\n",
       " 'All-wheel drive Wagons',\n",
       " 'Luxury entry-level cars',\n",
       " '4-seat Convertibles',\n",
       " 'Luxury entry-level sport-utility vehicles',\n",
       " 'Subcompact sport-utility vehicles']"
      ]
     },
     "execution_count": 12,
     "metadata": {},
     "output_type": "execute_result"
    }
   ],
   "source": [
    "list(df_tests['ratingsCategory'].unique())"
   ]
  },
  {
   "cell_type": "code",
   "execution_count": 13,
   "metadata": {
    "collapsed": false
   },
   "outputs": [],
   "source": [
    "cat=['Compact cars','Large cars','Midsized cars']\n",
    "df_sedans=df_tests[df_tests['ratingsCategory'] == 'Subcompact cars']\n",
    "\n",
    "for c in cat:\n",
    "    df_sedans=df_sedans.append(df_tests[df_tests['ratingsCategory'] == c], ignore_index=True)\n",
    "    \n",
    "df_sedans=df_sedans.drop(\"Merp\",axis=1)"
   ]
  },
  {
   "cell_type": "code",
   "execution_count": 14,
   "metadata": {
    "collapsed": false
   },
   "outputs": [
    {
     "data": {
      "text/plain": [
       "['roadTestScore',\n",
       " 'ratingsCategory',\n",
       " '0-30 Mph',\n",
       " '0-60 Mph',\n",
       " '45-65 Mph',\n",
       " 'Quarter Mile,Sec',\n",
       " 'Shifting Smoothness',\n",
       " 'Overall Routine Handling',\n",
       " 'Turning Circle',\n",
       " 'Avoidance Confidence',\n",
       " 'Avoidance Speed',\n",
       " 'Dry Skid Lateralg',\n",
       " 'Predictability Controllability',\n",
       " 'Steering Feel',\n",
       " 'Brake Fade',\n",
       " 'Brake Modulation',\n",
       " 'Dry Braking Directional Stability',\n",
       " 'No-Lock Stopping Distance',\n",
       " 'Split Mu Braking Directional Stability',\n",
       " 'Split Mu Stopping Distance',\n",
       " 'Wet Braking Stopping Distance',\n",
       " 'Normal Load Highway',\n",
       " 'Normal Load Rough Road1',\n",
       " 'Normal Load Rough Road2',\n",
       " 'Noise Trip Overall',\n",
       " 'Driving Position For Medium',\n",
       " 'Driving Position For Short',\n",
       " 'Driving Position For Tall',\n",
       " 'Driving Visibility For Medium',\n",
       " 'Driving Visibility For Short',\n",
       " 'Driving Visibility For Tall',\n",
       " 'Front Seat Comfort For Medium',\n",
       " 'Front Seat Comfort For Short',\n",
       " 'Front Seat Comfort For Tall',\n",
       " 'Rear Seat Comfort With 2',\n",
       " 'Climate Control Overall',\n",
       " 'Front Access For Medium',\n",
       " 'Front Access For Short',\n",
       " 'Front Access For Tall',\n",
       " 'Rear Access For Medium',\n",
       " 'Rear Access For Short',\n",
       " 'Rear Access For Tall',\n",
       " 'Controls And Displays For Medium',\n",
       " 'Controls And Displays For Short',\n",
       " 'Controls And Displays For Tall',\n",
       " 'Points Off',\n",
       " 'Overall (Mpg)',\n",
       " 'Interior Fabric',\n",
       " 'Other Cockpit',\n",
       " 'Primary Cockpit',\n",
       " 'Trunc',\n",
       " 'duffel',\n",
       " 'suitcase']"
      ]
     },
     "execution_count": 14,
     "metadata": {},
     "output_type": "execute_result"
    }
   ],
   "source": [
    "df_sedans.columns.tolist()"
   ]
  },
  {
   "cell_type": "code",
   "execution_count": 15,
   "metadata": {
    "collapsed": false
   },
   "outputs": [
    {
     "ename": "ValueError",
     "evalue": "Input contains NaN, infinity or a value too large for dtype('float64').",
     "output_type": "error",
     "traceback": [
      "\u001b[0;31m---------------------------------------------------------------------------\u001b[0m",
      "\u001b[0;31mValueError\u001b[0m                                Traceback (most recent call last)",
      "\u001b[0;32m<ipython-input-15-0f0ab2e4491d>\u001b[0m in \u001b[0;36m<module>\u001b[0;34m()\u001b[0m\n\u001b[1;32m      1\u001b[0m \u001b[0msedanVals\u001b[0m\u001b[1;33m=\u001b[0m\u001b[0mdf_sedans\u001b[0m\u001b[1;33m.\u001b[0m\u001b[0mdrop\u001b[0m\u001b[1;33m(\u001b[0m\u001b[1;34m\"ratingsCategory\"\u001b[0m\u001b[1;33m,\u001b[0m\u001b[0maxis\u001b[0m\u001b[1;33m=\u001b[0m\u001b[1;36m1\u001b[0m\u001b[1;33m)\u001b[0m\u001b[1;33m.\u001b[0m\u001b[0mvalues\u001b[0m\u001b[1;33m\u001b[0m\u001b[0m\n\u001b[1;32m      2\u001b[0m \u001b[0mreg\u001b[0m \u001b[1;33m=\u001b[0m \u001b[0mlinear_model\u001b[0m\u001b[1;33m.\u001b[0m\u001b[0mLinearRegression\u001b[0m\u001b[1;33m(\u001b[0m\u001b[1;33m)\u001b[0m\u001b[1;33m\u001b[0m\u001b[0m\n\u001b[0;32m----> 3\u001b[0;31m \u001b[0mreg\u001b[0m\u001b[1;33m.\u001b[0m\u001b[0mfit\u001b[0m \u001b[1;33m(\u001b[0m\u001b[0msedanVals\u001b[0m\u001b[1;33m[\u001b[0m\u001b[1;33m:\u001b[0m\u001b[1;33m,\u001b[0m\u001b[1;36m1\u001b[0m\u001b[1;33m:\u001b[0m\u001b[1;33m]\u001b[0m\u001b[1;33m,\u001b[0m\u001b[0msedanVals\u001b[0m\u001b[1;33m[\u001b[0m\u001b[1;33m:\u001b[0m\u001b[1;33m,\u001b[0m\u001b[1;36m0\u001b[0m\u001b[1;33m]\u001b[0m\u001b[1;33m)\u001b[0m\u001b[1;33m\u001b[0m\u001b[0m\n\u001b[0m",
      "\u001b[0;32mE:\\python\\WinPython\\python-3.6.0.amd64\\lib\\site-packages\\sklearn\\linear_model\\base.py\u001b[0m in \u001b[0;36mfit\u001b[0;34m(self, X, y, sample_weight)\u001b[0m\n\u001b[1;32m    510\u001b[0m         \u001b[0mn_jobs_\u001b[0m \u001b[1;33m=\u001b[0m \u001b[0mself\u001b[0m\u001b[1;33m.\u001b[0m\u001b[0mn_jobs\u001b[0m\u001b[1;33m\u001b[0m\u001b[0m\n\u001b[1;32m    511\u001b[0m         X, y = check_X_y(X, y, accept_sparse=['csr', 'csc', 'coo'],\n\u001b[0;32m--> 512\u001b[0;31m                          y_numeric=True, multi_output=True)\n\u001b[0m\u001b[1;32m    513\u001b[0m \u001b[1;33m\u001b[0m\u001b[0m\n\u001b[1;32m    514\u001b[0m         \u001b[1;32mif\u001b[0m \u001b[0msample_weight\u001b[0m \u001b[1;32mis\u001b[0m \u001b[1;32mnot\u001b[0m \u001b[1;32mNone\u001b[0m \u001b[1;32mand\u001b[0m \u001b[0mnp\u001b[0m\u001b[1;33m.\u001b[0m\u001b[0matleast_1d\u001b[0m\u001b[1;33m(\u001b[0m\u001b[0msample_weight\u001b[0m\u001b[1;33m)\u001b[0m\u001b[1;33m.\u001b[0m\u001b[0mndim\u001b[0m \u001b[1;33m>\u001b[0m \u001b[1;36m1\u001b[0m\u001b[1;33m:\u001b[0m\u001b[1;33m\u001b[0m\u001b[0m\n",
      "\u001b[0;32mE:\\python\\WinPython\\python-3.6.0.amd64\\lib\\site-packages\\sklearn\\utils\\validation.py\u001b[0m in \u001b[0;36mcheck_X_y\u001b[0;34m(X, y, accept_sparse, dtype, order, copy, force_all_finite, ensure_2d, allow_nd, multi_output, ensure_min_samples, ensure_min_features, y_numeric, warn_on_dtype, estimator)\u001b[0m\n\u001b[1;32m    519\u001b[0m     X = check_array(X, accept_sparse, dtype, order, copy, force_all_finite,\n\u001b[1;32m    520\u001b[0m                     \u001b[0mensure_2d\u001b[0m\u001b[1;33m,\u001b[0m \u001b[0mallow_nd\u001b[0m\u001b[1;33m,\u001b[0m \u001b[0mensure_min_samples\u001b[0m\u001b[1;33m,\u001b[0m\u001b[1;33m\u001b[0m\u001b[0m\n\u001b[0;32m--> 521\u001b[0;31m                     ensure_min_features, warn_on_dtype, estimator)\n\u001b[0m\u001b[1;32m    522\u001b[0m     \u001b[1;32mif\u001b[0m \u001b[0mmulti_output\u001b[0m\u001b[1;33m:\u001b[0m\u001b[1;33m\u001b[0m\u001b[0m\n\u001b[1;32m    523\u001b[0m         y = check_array(y, 'csr', force_all_finite=True, ensure_2d=False,\n",
      "\u001b[0;32mE:\\python\\WinPython\\python-3.6.0.amd64\\lib\\site-packages\\sklearn\\utils\\validation.py\u001b[0m in \u001b[0;36mcheck_array\u001b[0;34m(array, accept_sparse, dtype, order, copy, force_all_finite, ensure_2d, allow_nd, ensure_min_samples, ensure_min_features, warn_on_dtype, estimator)\u001b[0m\n\u001b[1;32m    405\u001b[0m                              % (array.ndim, estimator_name))\n\u001b[1;32m    406\u001b[0m         \u001b[1;32mif\u001b[0m \u001b[0mforce_all_finite\u001b[0m\u001b[1;33m:\u001b[0m\u001b[1;33m\u001b[0m\u001b[0m\n\u001b[0;32m--> 407\u001b[0;31m             \u001b[0m_assert_all_finite\u001b[0m\u001b[1;33m(\u001b[0m\u001b[0marray\u001b[0m\u001b[1;33m)\u001b[0m\u001b[1;33m\u001b[0m\u001b[0m\n\u001b[0m\u001b[1;32m    408\u001b[0m \u001b[1;33m\u001b[0m\u001b[0m\n\u001b[1;32m    409\u001b[0m     \u001b[0mshape_repr\u001b[0m \u001b[1;33m=\u001b[0m \u001b[0m_shape_repr\u001b[0m\u001b[1;33m(\u001b[0m\u001b[0marray\u001b[0m\u001b[1;33m.\u001b[0m\u001b[0mshape\u001b[0m\u001b[1;33m)\u001b[0m\u001b[1;33m\u001b[0m\u001b[0m\n",
      "\u001b[0;32mE:\\python\\WinPython\\python-3.6.0.amd64\\lib\\site-packages\\sklearn\\utils\\validation.py\u001b[0m in \u001b[0;36m_assert_all_finite\u001b[0;34m(X)\u001b[0m\n\u001b[1;32m     56\u001b[0m             and not np.isfinite(X).all()):\n\u001b[1;32m     57\u001b[0m         raise ValueError(\"Input contains NaN, infinity\"\n\u001b[0;32m---> 58\u001b[0;31m                          \" or a value too large for %r.\" % X.dtype)\n\u001b[0m\u001b[1;32m     59\u001b[0m \u001b[1;33m\u001b[0m\u001b[0m\n\u001b[1;32m     60\u001b[0m \u001b[1;33m\u001b[0m\u001b[0m\n",
      "\u001b[0;31mValueError\u001b[0m: Input contains NaN, infinity or a value too large for dtype('float64')."
     ]
    }
   ],
   "source": [
    "sedanVals=df_sedans.drop(\"ratingsCategory\",axis=1).values\n",
    "reg = linear_model.LinearRegression()\n",
    "reg.fit (sedanVals[:,1:],sedanVals[:,0])"
   ]
  },
  {
   "cell_type": "code",
   "execution_count": 25,
   "metadata": {
    "collapsed": false
   },
   "outputs": [
    {
     "name": "stderr",
     "output_type": "stream",
     "text": [
      "E:\\python\\WinPython\\python-3.6.0.amd64\\lib\\site-packages\\pandas\\core\\frame.py:2440: SettingWithCopyWarning: \n",
      "A value is trying to be set on a copy of a slice from a DataFrame.\n",
      "Try using .loc[row_indexer,col_indexer] = value instead\n",
      "\n",
      "See the caveats in the documentation: http://pandas.pydata.org/pandas-docs/stable/indexing.html#indexing-view-versus-copy\n",
      "  self[k1] = value[k2]\n"
     ]
    }
   ],
   "source": [
    "df_1 = df[df['roadTestScore']!='None'].reset_index(drop='True')\n",
    "df_accel=df_1[['Acceleration','0-30 Mph','0-60 Mph','45-65 Mph','Quarter Mile,Sec']]\n",
    "df_accel[['Acceleration']] = df_accel[['Acceleration']].astype(float)"
   ]
  },
  {
   "cell_type": "code",
   "execution_count": 26,
   "metadata": {
    "collapsed": false
   },
   "outputs": [
    {
     "data": {
      "text/html": [
       "<div>\n",
       "<table border=\"1\" class=\"dataframe\">\n",
       "  <thead>\n",
       "    <tr style=\"text-align: right;\">\n",
       "      <th></th>\n",
       "      <th>Acceleration</th>\n",
       "      <th>0-30 Mph</th>\n",
       "      <th>0-60 Mph</th>\n",
       "      <th>45-65 Mph</th>\n",
       "      <th>Quarter Mile,Sec</th>\n",
       "    </tr>\n",
       "  </thead>\n",
       "  <tbody>\n",
       "    <tr>\n",
       "      <th>count</th>\n",
       "      <td>255.000000</td>\n",
       "      <td>255.000000</td>\n",
       "      <td>255.000000</td>\n",
       "      <td>255.000000</td>\n",
       "      <td>255.000000</td>\n",
       "    </tr>\n",
       "    <tr>\n",
       "      <th>mean</th>\n",
       "      <td>3.764706</td>\n",
       "      <td>3.092431</td>\n",
       "      <td>7.980471</td>\n",
       "      <td>5.152000</td>\n",
       "      <td>16.135765</td>\n",
       "    </tr>\n",
       "    <tr>\n",
       "      <th>std</th>\n",
       "      <td>0.822619</td>\n",
       "      <td>0.542229</td>\n",
       "      <td>1.608554</td>\n",
       "      <td>0.997353</td>\n",
       "      <td>1.277406</td>\n",
       "    </tr>\n",
       "    <tr>\n",
       "      <th>min</th>\n",
       "      <td>2.000000</td>\n",
       "      <td>1.350000</td>\n",
       "      <td>3.480000</td>\n",
       "      <td>2.400000</td>\n",
       "      <td>12.100000</td>\n",
       "    </tr>\n",
       "    <tr>\n",
       "      <th>25%</th>\n",
       "      <td>3.000000</td>\n",
       "      <td>2.720000</td>\n",
       "      <td>6.875000</td>\n",
       "      <td>4.550000</td>\n",
       "      <td>15.375000</td>\n",
       "    </tr>\n",
       "    <tr>\n",
       "      <th>50%</th>\n",
       "      <td>4.000000</td>\n",
       "      <td>3.070000</td>\n",
       "      <td>7.850000</td>\n",
       "      <td>5.000000</td>\n",
       "      <td>16.100000</td>\n",
       "    </tr>\n",
       "    <tr>\n",
       "      <th>75%</th>\n",
       "      <td>4.000000</td>\n",
       "      <td>3.440000</td>\n",
       "      <td>8.930000</td>\n",
       "      <td>5.780000</td>\n",
       "      <td>16.930000</td>\n",
       "    </tr>\n",
       "    <tr>\n",
       "      <th>max</th>\n",
       "      <td>5.000000</td>\n",
       "      <td>4.520000</td>\n",
       "      <td>12.080000</td>\n",
       "      <td>7.930000</td>\n",
       "      <td>19.010000</td>\n",
       "    </tr>\n",
       "  </tbody>\n",
       "</table>\n",
       "</div>"
      ],
      "text/plain": [
       "       Acceleration    0-30 Mph    0-60 Mph   45-65 Mph  Quarter Mile,Sec\n",
       "count    255.000000  255.000000  255.000000  255.000000        255.000000\n",
       "mean       3.764706    3.092431    7.980471    5.152000         16.135765\n",
       "std        0.822619    0.542229    1.608554    0.997353          1.277406\n",
       "min        2.000000    1.350000    3.480000    2.400000         12.100000\n",
       "25%        3.000000    2.720000    6.875000    4.550000         15.375000\n",
       "50%        4.000000    3.070000    7.850000    5.000000         16.100000\n",
       "75%        4.000000    3.440000    8.930000    5.780000         16.930000\n",
       "max        5.000000    4.520000   12.080000    7.930000         19.010000"
      ]
     },
     "execution_count": 26,
     "metadata": {},
     "output_type": "execute_result"
    }
   ],
   "source": [
    "df_accel.describe()"
   ]
  },
  {
   "cell_type": "code",
   "execution_count": 27,
   "metadata": {
    "collapsed": false
   },
   "outputs": [
    {
     "data": {
      "text/plain": [
       "LinearRegression(copy_X=True, fit_intercept=True, n_jobs=1, normalize=False)"
      ]
     },
     "execution_count": 27,
     "metadata": {},
     "output_type": "execute_result"
    }
   ],
   "source": [
    "accelVals=df_accel.values\n",
    "reg = linear_model.LinearRegression()\n",
    "reg.fit (accelVals[:,1:],accelVals[:,0])"
   ]
  },
  {
   "cell_type": "code",
   "execution_count": 28,
   "metadata": {
    "collapsed": false
   },
   "outputs": [
    {
     "data": {
      "text/plain": [
       "array([ 0.13337909, -0.67568416, -0.06273858,  0.24904859])"
      ]
     },
     "execution_count": 28,
     "metadata": {},
     "output_type": "execute_result"
    }
   ],
   "source": [
    "reg.coef_"
   ]
  },
  {
   "cell_type": "code",
   "execution_count": null,
   "metadata": {
    "collapsed": true
   },
   "outputs": [],
   "source": []
  }
 ],
 "metadata": {
  "kernelspec": {
   "display_name": "Python 3",
   "language": "python",
   "name": "python3"
  },
  "language_info": {
   "codemirror_mode": {
    "name": "ipython",
    "version": 3
   },
   "file_extension": ".py",
   "mimetype": "text/x-python",
   "name": "python",
   "nbconvert_exporter": "python",
   "pygments_lexer": "ipython3",
   "version": "3.6.0"
  }
 },
 "nbformat": 4,
 "nbformat_minor": 1
}
